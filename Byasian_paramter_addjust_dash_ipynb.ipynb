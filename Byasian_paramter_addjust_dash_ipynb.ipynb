{
  "nbformat": 4,
  "nbformat_minor": 0,
  "metadata": {
    "colab": {
      "name": "Byasian_paramter_addjust_dash.ipynb.ipynb",
      "provenance": []
    },
    "kernelspec": {
      "name": "python3",
      "display_name": "Python 3"
    },
    "language_info": {
      "name": "python"
    }
  },
  "cells": [
    {
      "cell_type": "code",
      "execution_count": 1,
      "metadata": {
        "id": "ariYJRDbCpkw"
      },
      "outputs": [],
      "source": [
        "import numpy as np\n",
        "import matplotlib.pyplot as plt\n",
        "import os\n",
        "import glob\n",
        "import pandas as pd\n",
        "import pymc3 as pm\n",
        "import seaborn as sns"
      ]
    },
    {
      "cell_type": "code",
      "source": [
        "import tifffile as tfi\n",
        "import skimage.measure as sme\n",
        "import matplotlib.image as mpimg\n",
        "import matplotlib.pyplot as plt\n",
        "from PIL import Image, ImageEnhance\n",
        "# from PIL import fromarray\n",
        "from numpy import asarray\n",
        "from skimage import data, io\n",
        "from skimage.filters import threshold_otsu, threshold_local\n",
        "from skimage.morphology import convex_hull_image\n",
        "from scipy import ndimage as ndi\n",
        "from scipy.ndimage.morphology import binary_opening, binary_erosion\n",
        "from skimage.morphology import disk, remove_small_objects\n",
        "import skimage.morphology as sm\n",
        "from skimage.segmentation import watershed\n",
        "from skimage import data\n",
        "from skimage.filters import rank, gaussian, sobel\n",
        "from skimage.util import img_as_ubyte\n",
        "from skimage import data, util\n",
        "from skimage.measure import regionprops_table\n",
        "from skimage.measure import perimeter\n",
        "from skimage import measure\n",
        "from skimage.exposure import rescale_intensity, histogram\n",
        "from skimage.feature import peak_local_max\n",
        "from pandas import DataFrame\n",
        "from scipy.ndimage.morphology import binary_fill_holes\n",
        "from skimage.viewer import ImageViewer\n",
        "from skimage import img_as_float\n",
        "import time\n",
        "import base64\n",
        "from datetime import datetime"
      ],
      "metadata": {
        "id": "Xpxfa4KmC44i"
      },
      "execution_count": null,
      "outputs": []
    }
  ]
}